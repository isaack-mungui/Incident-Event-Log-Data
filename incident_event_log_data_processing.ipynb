{
 "cells": [
  {
   "cell_type": "markdown",
   "id": "acquired-treasurer",
   "metadata": {},
   "source": [
    "# Import libraries"
   ]
  },
  {
   "cell_type": "code",
   "execution_count": 2,
   "id": "civil-necklace",
   "metadata": {},
   "outputs": [],
   "source": [
    "from pyspark.sql import SparkSession\n",
    "from pyspark.sql.functions import isnan, count, when, col, desc, udf, col, sort_array, asc, avg\n",
    "from pyspark.sql.functions import sum as Fsum\n",
    "from pyspark.sql.window import Window\n",
    "from pyspark.sql.types import IntegerType"
   ]
  },
  {
   "cell_type": "markdown",
   "id": "functioning-publisher",
   "metadata": {},
   "source": [
    "## Instantiate a Spark Session"
   ]
  },
  {
   "cell_type": "code",
   "execution_count": 10,
   "id": "aging-technique",
   "metadata": {},
   "outputs": [],
   "source": [
    "spark = SparkSession \\\n",
    "    .builder \\\n",
    "    .appName(\"Processing incident event log data\") \\\n",
    "    .getOrCreate()"
   ]
  },
  {
   "cell_type": "markdown",
   "id": "neutral-equation",
   "metadata": {},
   "source": [
    "## Read in the data set"
   ]
  },
  {
   "cell_type": "code",
   "execution_count": 16,
   "id": "confident-slope",
   "metadata": {},
   "outputs": [],
   "source": [
    "df = spark.read \\\n",
    "    .format(\"csv\") \\\n",
    "    .option(\"header\", \"true\") \\\n",
    "    .option(\"mode\", \"DROPMALFORMED\") \\\n",
    "    .load(\"incident_event_log.csv\")"
   ]
  },
  {
   "cell_type": "code",
   "execution_count": 17,
   "id": "announced-printer",
   "metadata": {},
   "outputs": [
    {
     "name": "stdout",
     "output_type": "stream",
     "text": [
      "root\n",
      " |-- number: string (nullable = true)\n",
      " |-- incident_state: string (nullable = true)\n",
      " |-- active: string (nullable = true)\n",
      " |-- reassignment_count: string (nullable = true)\n",
      " |-- reopen_count: string (nullable = true)\n",
      " |-- sys_mod_count: string (nullable = true)\n",
      " |-- made_sla: string (nullable = true)\n",
      " |-- caller_id: string (nullable = true)\n",
      " |-- opened_by: string (nullable = true)\n",
      " |-- opened_at: string (nullable = true)\n",
      " |-- sys_created_by: string (nullable = true)\n",
      " |-- sys_created_at: string (nullable = true)\n",
      " |-- sys_updated_by: string (nullable = true)\n",
      " |-- sys_updated_at: string (nullable = true)\n",
      " |-- contact_type: string (nullable = true)\n",
      " |-- location: string (nullable = true)\n",
      " |-- category: string (nullable = true)\n",
      " |-- subcategory: string (nullable = true)\n",
      " |-- u_symptom: string (nullable = true)\n",
      " |-- cmdb_ci: string (nullable = true)\n",
      " |-- impact: string (nullable = true)\n",
      " |-- urgency: string (nullable = true)\n",
      " |-- priority: string (nullable = true)\n",
      " |-- assignment_group: string (nullable = true)\n",
      " |-- assigned_to: string (nullable = true)\n",
      " |-- knowledge: string (nullable = true)\n",
      " |-- u_priority_confirmation: string (nullable = true)\n",
      " |-- notify: string (nullable = true)\n",
      " |-- problem_id: string (nullable = true)\n",
      " |-- rfc: string (nullable = true)\n",
      " |-- vendor: string (nullable = true)\n",
      " |-- caused_by: string (nullable = true)\n",
      " |-- closed_code: string (nullable = true)\n",
      " |-- resolved_by: string (nullable = true)\n",
      " |-- resolved_at: string (nullable = true)\n",
      " |-- closed_at: string (nullable = true)\n",
      "\n"
     ]
    }
   ],
   "source": [
    "df.printSchema()"
   ]
  },
  {
   "cell_type": "code",
   "execution_count": null,
   "id": "homeless-melissa",
   "metadata": {},
   "outputs": [],
   "source": []
  }
 ],
 "metadata": {
  "kernelspec": {
   "display_name": "Python 3",
   "language": "python",
   "name": "python3"
  },
  "language_info": {
   "codemirror_mode": {
    "name": "ipython",
    "version": 3
   },
   "file_extension": ".py",
   "mimetype": "text/x-python",
   "name": "python",
   "nbconvert_exporter": "python",
   "pygments_lexer": "ipython3",
   "version": "3.8.5"
  }
 },
 "nbformat": 4,
 "nbformat_minor": 5
}
